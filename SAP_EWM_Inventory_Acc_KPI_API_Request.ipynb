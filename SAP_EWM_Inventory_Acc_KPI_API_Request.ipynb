{
  "nbformat": 4,
  "nbformat_minor": 0,
  "metadata": {
    "colab": {
      "provenance": []
    },
    "kernelspec": {
      "name": "python3",
      "display_name": "Python 3"
    },
    "language_info": {
      "name": "python"
    }
  },
  "cells": [
    {
      "cell_type": "markdown",
      "source": [
        "Import required libraries:"
      ],
      "metadata": {
        "id": "d71AlgJXLYrY"
      }
    },
    {
      "cell_type": "code",
      "source": [
        "import requests\n",
        "import json\n"
      ],
      "metadata": {
        "id": "-cZL5c55LnS8"
      },
      "execution_count": null,
      "outputs": []
    },
    {
      "cell_type": "markdown",
      "source": [
        "These lines import the requests library, which is used to send HTTP requests, and the json library, which is used to handle JSON data.\n",
        "\n",
        "Define the SAP EWM API base URL, API key, and the desired endpoint:"
      ],
      "metadata": {
        "id": "13gWmMr1Lok1"
      }
    },
    {
      "cell_type": "code",
      "source": [
        "BASE_URL = 'https://your_sap_ewm_api_base_url'\n",
        "API_KEY = 'your_sap_ewm_api_key'\n",
        "ENDPOINT = '/inventory_accuracy_kpi'"
      ],
      "metadata": {
        "id": "uFYG4ejuLrx1"
      },
      "execution_count": null,
      "outputs": []
    },
    {
      "cell_type": "markdown",
      "source": [
        "Replace the placeholders your_sap_ewm_api_base_url and your_sap_ewm_api_key with your actual base URL and API key. The ENDPOINT variable holds the path to the specific API endpoint that provides the inventory accuracy KPI.\n",
        "\n",
        "Define a function to request the inventory accuracy KPI:"
      ],
      "metadata": {
        "id": "MoCDs0OKLuFV"
      }
    },
    {
      "cell_type": "code",
      "source": [
        "def request_inventory_accuracy_kpi():\n"
      ],
      "metadata": {
        "id": "F-Uqe68XLxH8"
      },
      "execution_count": null,
      "outputs": []
    },
    {
      "cell_type": "markdown",
      "source": [
        "This function, request_inventory_accuracy_kpi, will send an HTTP GET request to the SAP EWM API and retrieve the inventory accuracy KPI.\n",
        "\n",
        "Set up the request headers:"
      ],
      "metadata": {
        "id": "PILnUBNiLyil"
      }
    },
    {
      "cell_type": "code",
      "source": [
        "    headers = {\n",
        "        'Authorization': f'Bearer {API_KEY}',\n",
        "        'Content-Type': 'application/json'\n",
        "    }"
      ],
      "metadata": {
        "id": "s_7_-insL1_M"
      },
      "execution_count": null,
      "outputs": []
    },
    {
      "cell_type": "markdown",
      "source": [
        "This code block creates a dictionary called headers containing the necessary HTTP headers for the request. The Authorization header includes the API key, and the Content-Type header specifies that the request and response data are in JSON format.\n",
        "\n",
        "Construct the API request URL:"
      ],
      "metadata": {
        "id": "bb9KfhR9L5Xt"
      }
    },
    {
      "cell_type": "code",
      "source": [
        "    url = BASE_URL + ENDPOINT\n"
      ],
      "metadata": {
        "id": "4Pcm2JtXL6Ad"
      },
      "execution_count": null,
      "outputs": []
    },
    {
      "cell_type": "markdown",
      "source": [
        "This line concatenates the base URL and the API endpoint to form the complete API request URL.\n",
        "\n",
        "Send the API request and handle exceptions:"
      ],
      "metadata": {
        "id": "6fAaYNI4MCU1"
      }
    },
    {
      "cell_type": "code",
      "source": [
        "  try:\n",
        "        response = requests.get(url, headers=headers)\n",
        "        response.raise_for_status()\n",
        "        data = json.loads(response.text)\n",
        "        return data['inventory_accuracy']\n",
        "    except requests.exceptions.HTTPError as e:\n",
        "        print(f\"Error {e}: {response.status_code}\")\n",
        "        return None\n",
        "    except Exception as e:\n",
        "        print(f\"Error: {e}\")\n",
        "        return None"
      ],
      "metadata": {
        "id": "nfheZ9cQL7h9"
      },
      "execution_count": null,
      "outputs": []
    },
    {
      "cell_type": "markdown",
      "source": [
        "This code block sends an HTTP GET request using the requests.get() function and includes the previously defined headers. If the request is successful, the response data is parsed as JSON using json.loads(response.text), and the inventory accuracy value is extracted and returned.\n",
        "\n",
        "If the request encounters an HTTP error (e.g., status code 400 or 500), the code raises a requests.exceptions.HTTPError exception and prints the error message along with the status code. If any other exception occurs, the code prints a generic error message. In both cases, the function returns None.\n",
        "\n",
        "Main program:"
      ],
      "metadata": {
        "id": "PiPaqpGvMGft"
      }
    },
    {
      "cell_type": "code",
      "source": [
        "inventory_accuracy = request_inventory_accuracy_kpi()\n",
        "\n",
        "if inventory_accuracy is not None:\n",
        "    print(f\"Inventory accuracy KPI: {inventory_accuracy}\")"
      ],
      "metadata": {
        "id": "xpWf8DwIMHLF"
      },
      "execution_count": null,
      "outputs": []
    },
    {
      "cell_type": "markdown",
      "source": [
        "This part of the code calls the request_inventory_accuracy_kpi() function and stores the returned inventory accuracy value in the inventory_accuracy variable. If the value is not None, it prints the inventory accuracy KPI.\n",
        "\n"
      ],
      "metadata": {
        "id": "tO11AlPzMI09"
      }
    }
  ]
}